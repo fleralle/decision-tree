{
  "cells": [
    {
      "cell_type": "markdown",
      "source": [
        "# Implementing Decision Tree Algorithm from scratch\n",
        "\n",
        "The purpose of the tutorial is to implement step-by-step a Decision Tree\n",
        "algorithm from scratch using both ID3 (Iterative Dichotomiser 3) and CART\n",
        "(Classification And Regression Tree) algorithms.\n",
        "As we code along, we will dive more in deepth in each algorithms.\n",
        "Most of the code in made in the DecisionTree.py file at the root of the\n",
        "project.\n",
        "In order to test our models, we will use the Titanic dataset available [here](https://www.kaggle.com/c/titanic/data)\n"
      ],
      "metadata": {}
    },
    {
      "cell_type": "code",
      "source": [
        "# Auto reload external librairies.\n",
        "%load_ext autoreload\n",
        "%autoreload 2\n"
      ],
      "outputs": [],
      "execution_count": null,
      "metadata": {
        "collapsed": false,
        "outputHidden": false,
        "inputHidden": false
      }
    },
    {
      "cell_type": "code",
      "source": [
        "import pandas as pd\n",
        "from DecisionTree import DecisionTree\n",
        "\n",
        "titanic_df = pd.read_csv('titanic.csv', sep='\\t')\n",
        "titanic_df.head()\n"
      ],
      "outputs": [],
      "execution_count": null,
      "metadata": {
        "collapsed": false,
        "outputHidden": false,
        "inputHidden": false
      }
    },
    {
      "cell_type": "code",
      "source": [
        "from sklearn.model_selection import train_test_split\n",
        "\n",
        "X = titanic_df.iloc[:, 2:]\n",
        "y = titanic_df.iloc[:, 1]\n",
        "\n",
        "# %%\n",
        "# Convert gender tosupport DecisionTreeClassifier male = 0, female = 1\n",
        "X['Sex'] = [int(sex == 'female') for sex in X['Sex']]\n"
      ],
      "outputs": [],
      "execution_count": null,
      "metadata": {
        "collapsed": false,
        "outputHidden": false,
        "inputHidden": false
      }
    },
    {
      "cell_type": "code",
      "source": [
        "X_train, X_test, y_train, y_test = train_test_split(X, y, test_size=.3, random_state=123)\n",
        "X_y_train = pd.concat([X_train, y_train], axis=1)\n"
      ],
      "outputs": [],
      "execution_count": null,
      "metadata": {
        "collapsed": false,
        "outputHidden": false,
        "inputHidden": false
      }
    },
    {
      "cell_type": "code",
      "source": [
        "dt = DecisionTree()\n",
        "\n",
        "# Defines features used in classification\n",
        "features = ['Sex', 'Pclass', 'SibSp']\n",
        "dt.fit(X_train, y_train, features=['Pclass', 'SibSp', 'Sex'])\n"
      ],
      "outputs": [],
      "execution_count": null,
      "metadata": {
        "collapsed": false,
        "outputHidden": false,
        "inputHidden": false
      }
    },
    {
      "cell_type": "code",
      "source": [
        "y_hat_train = dt.predict(X_train)\n",
        "y_hat_test = dt.predict(X_test)\n"
      ],
      "outputs": [],
      "execution_count": null,
      "metadata": {
        "collapsed": false,
        "outputHidden": false,
        "inputHidden": false
      }
    },
    {
      "cell_type": "code",
      "source": [
        "print('-------- Predictions with Train set ---------')\n",
        "train_scratch_acc = dt.accuracy(y_train, y_hat_train)\n",
        "print(train_scratch_acc)\n",
        "print('-------- Predictions with Test set ---------')\n",
        "test_scratch_acc = dt.accuracy(y_test, y_hat_test)\n",
        "print(test_scratch_acc)\n"
      ],
      "outputs": [],
      "execution_count": null,
      "metadata": {
        "collapsed": false,
        "outputHidden": false,
        "inputHidden": false
      }
    },
    {
      "cell_type": "code",
      "source": [
        "# Compare with sklearn built-in classifier\n",
        "from sklearn.metrics import classification_report, confusion_matrix\n",
        "from sklearn.tree import DecisionTreeClassifier\n",
        "\n",
        "classifier = DecisionTreeClassifier(criterion=\"entropy\")\n",
        "classifier.fit(X_train[features], y_train)\n",
        "\n",
        "y_hat_train_cls = classifier.predict(X_train[features])\n",
        "y_hat_test_cls = classifier.predict(X_test[features])\n",
        "\n",
        "print('-------- Predictions with sklearn Train set ---------')\n",
        "# print(confusion_matrix(y_train, y_hat_train_cls))\n",
        "# print(classification_report(y_train, y_hat_train_cls))\n",
        "train_skl_acc = dt.accuracy(y_train, y_hat_train_cls)\n",
        "print(train_skl_acc)\n",
        "print('-------- Predictions with sklearn Test set ---------')\n",
        "# print(confusion_matrix(y_test, y_hat_test_cls))\n",
        "# print(classification_report(y_test, y_hat_test_cls))\n",
        "test_skl_acc = dt.accuracy(y_test, y_hat_test_cls)\n",
        "print(test_skl_acc)"
      ],
      "outputs": [],
      "execution_count": null,
      "metadata": {
        "collapsed": false,
        "outputHidden": false,
        "inputHidden": false
      }
    }
  ],
  "metadata": {
    "kernelspec": {
      "argv": [
        "/Users/francoisleralle/dev/anaconda/anaconda3/bin/python",
        "-m",
        "ipykernel_launcher",
        "-f",
        "{connection_file}"
      ],
      "display_name": "learn-env",
      "language": "python",
      "name": "learn-env"
    }
  },
  "nbformat": 4,
  "nbformat_minor": 0
}